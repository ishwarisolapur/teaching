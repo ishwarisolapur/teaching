{
  "nbformat": 4,
  "nbformat_minor": 0,
  "metadata": {
    "colab": {
      "name": "tutorial.ipynb",
      "provenance": [],
      "collapsed_sections": [],
      "authorship_tag": "ABX9TyOynn0HOlaGEZc+6M6pghaK",
      "include_colab_link": true
    },
    "kernelspec": {
      "name": "python3",
      "display_name": "Python 3"
    }
  },
  "cells": [
    {
      "cell_type": "markdown",
      "metadata": {
        "id": "view-in-github",
        "colab_type": "text"
      },
      "source": [
        "<a href=\"https://colab.research.google.com/github/forvaidya/teaching/blob/master/tutorial.ipynb\" target=\"_parent\"><img src=\"https://colab.research.google.com/assets/colab-badge.svg\" alt=\"Open In Colab\"/></a>"
      ]
    },
    {
      "cell_type": "markdown",
      "metadata": {
        "id": "R_PlpRcN3L-U",
        "colab_type": "text"
      },
      "source": [
        "# Python\n",
        "\n",
        "##Scalar Context\n",
        "+ String\n",
        "\n",
        "+ integer\n",
        "+ float\n",
        "+ Bool\n",
        "+ None "
      ]
    },
    {
      "cell_type": "markdown",
      "metadata": {
        "id": "yStKBwu-3n59",
        "colab_type": "text"
      },
      "source": [
        "#Built In functions\n",
        "https://docs.python.org/3/library/functions.html"
      ]
    },
    {
      "cell_type": "code",
      "metadata": {
        "id": "FLy11UZ24bFF",
        "colab_type": "code",
        "colab": {
          "base_uri": "https://localhost:8080/",
          "height": 35
        },
        "outputId": "df43a3b7-4b50-4ee8-a4bf-93bcdefd45b5"
      },
      "source": [
        "# String\n",
        "name = \"RauhlFandhi\"\n",
        "name"
      ],
      "execution_count": 12,
      "outputs": [
        {
          "output_type": "execute_result",
          "data": {
            "application/vnd.google.colaboratory.intrinsic": {
              "type": "string"
            },
            "text/plain": [
              "'RauhlFandhi'"
            ]
          },
          "metadata": {
            "tags": []
          },
          "execution_count": 12
        }
      ]
    },
    {
      "cell_type": "code",
      "metadata": {
        "id": "PC6iBInQ4lGf",
        "colab_type": "code",
        "colab": {
          "base_uri": "https://localhost:8080/",
          "height": 35
        },
        "outputId": "5d505eb2-694c-409d-c54c-073216f489ca"
      },
      "source": [
        "name.upper() #Use of String Function\n"
      ],
      "execution_count": 13,
      "outputs": [
        {
          "output_type": "execute_result",
          "data": {
            "application/vnd.google.colaboratory.intrinsic": {
              "type": "string"
            },
            "text/plain": [
              "'RAUHLFANDHI'"
            ]
          },
          "metadata": {
            "tags": []
          },
          "execution_count": 13
        }
      ]
    },
    {
      "cell_type": "code",
      "metadata": {
        "id": "1M64sfmU5NZb",
        "colab_type": "code",
        "colab": {
          "base_uri": "https://localhost:8080/",
          "height": 34
        },
        "outputId": "438a607a-269f-4a29-8180-ca4581ae28f1"
      },
      "source": [
        "len(name)\n"
      ],
      "execution_count": 14,
      "outputs": [
        {
          "output_type": "execute_result",
          "data": {
            "text/plain": [
              "11"
            ]
          },
          "metadata": {
            "tags": []
          },
          "execution_count": 14
        }
      ]
    },
    {
      "cell_type": "code",
      "metadata": {
        "id": "hYnSsb_w5RWV",
        "colab_type": "code",
        "colab": {
          "base_uri": "https://localhost:8080/",
          "height": 35
        },
        "outputId": "71fec771-4270-40c1-af2c-95ed3adc3462"
      },
      "source": [
        "name[2:-3]  #Slice Example"
      ],
      "execution_count": 15,
      "outputs": [
        {
          "output_type": "execute_result",
          "data": {
            "application/vnd.google.colaboratory.intrinsic": {
              "type": "string"
            },
            "text/plain": [
              "'uhlFan'"
            ]
          },
          "metadata": {
            "tags": []
          },
          "execution_count": 15
        }
      ]
    },
    {
      "cell_type": "code",
      "metadata": {
        "id": "fFML6l545UGq",
        "colab_type": "code",
        "colab": {
          "base_uri": "https://localhost:8080/",
          "height": 34
        },
        "outputId": "14a2c54b-301b-4520-852a-4a38f6b314c9"
      },
      "source": [
        "#Bool example\n",
        "theory = True\n",
        "practical = True\n",
        "theory and practical"
      ],
      "execution_count": 16,
      "outputs": [
        {
          "output_type": "execute_result",
          "data": {
            "text/plain": [
              "True"
            ]
          },
          "metadata": {
            "tags": []
          },
          "execution_count": 16
        }
      ]
    },
    {
      "cell_type": "code",
      "metadata": {
        "id": "MK8CKX-W504A",
        "colab_type": "code",
        "colab": {
          "base_uri": "https://localhost:8080/",
          "height": 34
        },
        "outputId": "d1468435-30ec-4caf-f4dd-0c45a3582987"
      },
      "source": [
        "theory or practical"
      ],
      "execution_count": 17,
      "outputs": [
        {
          "output_type": "execute_result",
          "data": {
            "text/plain": [
              "True"
            ]
          },
          "metadata": {
            "tags": []
          },
          "execution_count": 17
        }
      ]
    },
    {
      "cell_type": "code",
      "metadata": {
        "id": "k5XW3m7N53g6",
        "colab_type": "code",
        "colab": {}
      },
      "source": [
        "theory = False"
      ],
      "execution_count": 18,
      "outputs": []
    },
    {
      "cell_type": "code",
      "metadata": {
        "id": "rP2Gw069551r",
        "colab_type": "code",
        "colab": {
          "base_uri": "https://localhost:8080/",
          "height": 34
        },
        "outputId": "4de1dbc2-e1b7-49b3-8891-6b6c5ca44dca"
      },
      "source": [
        "theory or practical"
      ],
      "execution_count": 19,
      "outputs": [
        {
          "output_type": "execute_result",
          "data": {
            "text/plain": [
              "True"
            ]
          },
          "metadata": {
            "tags": []
          },
          "execution_count": 19
        }
      ]
    },
    {
      "cell_type": "code",
      "metadata": {
        "id": "3_zAb5Ou57V0",
        "colab_type": "code",
        "colab": {
          "base_uri": "https://localhost:8080/",
          "height": 34
        },
        "outputId": "110d08c2-c434-425d-a11c-2116587233b4"
      },
      "source": [
        "theory and practical"
      ],
      "execution_count": 20,
      "outputs": [
        {
          "output_type": "execute_result",
          "data": {
            "text/plain": [
              "False"
            ]
          },
          "metadata": {
            "tags": []
          },
          "execution_count": 20
        }
      ]
    },
    {
      "cell_type": "markdown",
      "metadata": {
        "id": "p_bcHu7Z60bL",
        "colab_type": "text"
      },
      "source": [
        "##Operators on String"
      ]
    },
    {
      "cell_type": "code",
      "metadata": {
        "id": "vgyyglku6zCi",
        "colab_type": "code",
        "colab": {}
      },
      "source": [
        "fname = \"Iswari\"\n",
        "lname = \"Vaidya\"\n"
      ],
      "execution_count": 21,
      "outputs": []
    },
    {
      "cell_type": "code",
      "metadata": {
        "id": "pphItk7x5ylm",
        "colab_type": "code",
        "colab": {
          "base_uri": "https://localhost:8080/",
          "height": 35
        },
        "outputId": "c1835790-8260-4725-996f-6a909812b739"
      },
      "source": [
        "fname + lname"
      ],
      "execution_count": 22,
      "outputs": [
        {
          "output_type": "execute_result",
          "data": {
            "application/vnd.google.colaboratory.intrinsic": {
              "type": "string"
            },
            "text/plain": [
              "'IswariVaidya'"
            ]
          },
          "metadata": {
            "tags": []
          },
          "execution_count": 22
        }
      ]
    },
    {
      "cell_type": "code",
      "metadata": {
        "id": "bz-luh207FsB",
        "colab_type": "code",
        "colab": {
          "base_uri": "https://localhost:8080/",
          "height": 35
        },
        "outputId": "4d9f5818-aa08-4729-98e7-e0ebb1d31ed0"
      },
      "source": [
        "fname + '.' + lname \n"
      ],
      "execution_count": 23,
      "outputs": [
        {
          "output_type": "execute_result",
          "data": {
            "application/vnd.google.colaboratory.intrinsic": {
              "type": "string"
            },
            "text/plain": [
              "'Iswari.Vaidya'"
            ]
          },
          "metadata": {
            "tags": []
          },
          "execution_count": 23
        }
      ]
    },
    {
      "cell_type": "code",
      "metadata": {
        "id": "BStoWQED7L3o",
        "colab_type": "code",
        "colab": {
          "base_uri": "https://localhost:8080/",
          "height": 34
        },
        "outputId": "7ca0c171-5820-4355-d291-2ae7eac2d3b2"
      },
      "source": [
        "fullname = fname + '.' + lname\n",
        "fullname.split(r'.')"
      ],
      "execution_count": 24,
      "outputs": [
        {
          "output_type": "execute_result",
          "data": {
            "text/plain": [
              "['Iswari', 'Vaidya']"
            ]
          },
          "metadata": {
            "tags": []
          },
          "execution_count": 24
        }
      ]
    },
    {
      "cell_type": "markdown",
      "metadata": {
        "id": "hS4F4uiq7XVr",
        "colab_type": "text"
      },
      "source": [
        "## Multiplication Operator on String\n",
        "It prints string N times\n",
        "\n",
        "\n",
        "```\n",
        "\"xxx\" * 3 # Becomes \n",
        "xxxxxxxxx # This..\n",
        "\n",
        "```\n",
        "# This is formatted as code\n",
        "```\n",
        "\n",
        "\n",
        "```\n",
        "\n"
      ]
    },
    {
      "cell_type": "code",
      "metadata": {
        "id": "yM08gdn37D5A",
        "colab_type": "code",
        "colab": {
          "base_uri": "https://localhost:8080/",
          "height": 35
        },
        "outputId": "dae002a3-2208-44ae-d27b-e323e52dcc51"
      },
      "source": [
        "marker=\"-#-\"\n",
        "marker"
      ],
      "execution_count": 25,
      "outputs": [
        {
          "output_type": "execute_result",
          "data": {
            "application/vnd.google.colaboratory.intrinsic": {
              "type": "string"
            },
            "text/plain": [
              "'-#-'"
            ]
          },
          "metadata": {
            "tags": []
          },
          "execution_count": 25
        }
      ]
    },
    {
      "cell_type": "code",
      "metadata": {
        "id": "wKOcFE-P7fDz",
        "colab_type": "code",
        "colab": {
          "base_uri": "https://localhost:8080/",
          "height": 35
        },
        "outputId": "45e01a85-6006-42ac-9ade-782cc5523a07"
      },
      "source": [
        "marker * 3 "
      ],
      "execution_count": 26,
      "outputs": [
        {
          "output_type": "execute_result",
          "data": {
            "application/vnd.google.colaboratory.intrinsic": {
              "type": "string"
            },
            "text/plain": [
              "'-#--#--#-'"
            ]
          },
          "metadata": {
            "tags": []
          },
          "execution_count": 26
        }
      ]
    },
    {
      "cell_type": "code",
      "metadata": {
        "id": "saEWAx2rjQa4",
        "colab_type": "code",
        "colab": {
          "base_uri": "https://localhost:8080/",
          "height": 34
        },
        "outputId": "a6ced969-2be7-48a2-9bf6-bcdbfa69f641"
      },
      "source": [
        "10%5\n"
      ],
      "execution_count": 90,
      "outputs": [
        {
          "output_type": "execute_result",
          "data": {
            "text/plain": [
              "0"
            ]
          },
          "metadata": {
            "tags": []
          },
          "execution_count": 90
        }
      ]
    },
    {
      "cell_type": "code",
      "metadata": {
        "id": "CYl7i8HajSEY",
        "colab_type": "code",
        "colab": {
          "base_uri": "https://localhost:8080/",
          "height": 34
        },
        "outputId": "7e2900cc-045d-4b74-e2af-ea139351c50c"
      },
      "source": [
        "10%3"
      ],
      "execution_count": 91,
      "outputs": [
        {
          "output_type": "execute_result",
          "data": {
            "text/plain": [
              "1"
            ]
          },
          "metadata": {
            "tags": []
          },
          "execution_count": 91
        }
      ]
    },
    {
      "cell_type": "code",
      "metadata": {
        "id": "ii1I1F5zjTPd",
        "colab_type": "code",
        "colab": {}
      },
      "source": [
        ""
      ],
      "execution_count": null,
      "outputs": []
    },
    {
      "cell_type": "markdown",
      "metadata": {
        "id": "Ksax-4bPEHlW",
        "colab_type": "text"
      },
      "source": [
        "# Operators on integers and float\n",
        "Python have all basic operators, few special operators discussed below.\n",
        "\n",
        "\n",
        "*   and, or, not\n",
        "*   // - Floor division\n",
        "*   ^ - exclusive or'\n",
        "*   % - Modulus\n",
        "\n",
        "** some operators may not work on float alike "
      ]
    },
    {
      "cell_type": "markdown",
      "metadata": {
        "id": "ZH-XdM0dPyBk",
        "colab_type": "text"
      },
      "source": [
        "# **|** \n",
        "Bit Wise or operator\n",
        "\n",
        "```\n",
        "example if 8 is represented as 1000\n",
        "and 4 is represented as 100\n",
        "then \n",
        "\n",
        "100 | 1000 => 1100\n",
        "~ 12\n",
        "```\n",
        "\n",
        " "
      ]
    },
    {
      "cell_type": "code",
      "metadata": {
        "id": "6F0rzod7GMbw",
        "colab_type": "code",
        "colab": {
          "base_uri": "https://localhost:8080/",
          "height": 34
        },
        "outputId": "2aaaf57d-c097-4c98-f6cb-1c1880d715a3"
      },
      "source": [
        "8 | 8"
      ],
      "execution_count": 27,
      "outputs": [
        {
          "output_type": "execute_result",
          "data": {
            "text/plain": [
              "8"
            ]
          },
          "metadata": {
            "tags": []
          },
          "execution_count": 27
        }
      ]
    },
    {
      "cell_type": "code",
      "metadata": {
        "id": "i_aKoD-0GSI9",
        "colab_type": "code",
        "colab": {
          "base_uri": "https://localhost:8080/",
          "height": 34
        },
        "outputId": "a982a9b8-750d-42dd-c55a-a62dbc7100b3"
      },
      "source": [
        "8 ^ 4"
      ],
      "execution_count": 28,
      "outputs": [
        {
          "output_type": "execute_result",
          "data": {
            "text/plain": [
              "12"
            ]
          },
          "metadata": {
            "tags": []
          },
          "execution_count": 28
        }
      ]
    },
    {
      "cell_type": "code",
      "metadata": {
        "id": "yrNT8bVCI1pm",
        "colab_type": "code",
        "colab": {
          "base_uri": "https://localhost:8080/",
          "height": 35
        },
        "outputId": "efd74f72-39b0-466b-a60d-a9d7119bb26f"
      },
      "source": [
        "bin(4)"
      ],
      "execution_count": 29,
      "outputs": [
        {
          "output_type": "execute_result",
          "data": {
            "application/vnd.google.colaboratory.intrinsic": {
              "type": "string"
            },
            "text/plain": [
              "'0b100'"
            ]
          },
          "metadata": {
            "tags": []
          },
          "execution_count": 29
        }
      ]
    },
    {
      "cell_type": "code",
      "metadata": {
        "id": "34Gjeb-7I5fU",
        "colab_type": "code",
        "colab": {}
      },
      "source": [
        ""
      ],
      "execution_count": 29,
      "outputs": []
    },
    {
      "cell_type": "code",
      "metadata": {
        "id": "10YJDxrGI56u",
        "colab_type": "code",
        "colab": {
          "base_uri": "https://localhost:8080/",
          "height": 35
        },
        "outputId": "9140d5cc-058d-4ccd-bd28-eb13a12ffe66"
      },
      "source": [
        "bin(5)"
      ],
      "execution_count": 30,
      "outputs": [
        {
          "output_type": "execute_result",
          "data": {
            "application/vnd.google.colaboratory.intrinsic": {
              "type": "string"
            },
            "text/plain": [
              "'0b101'"
            ]
          },
          "metadata": {
            "tags": []
          },
          "execution_count": 30
        }
      ]
    },
    {
      "cell_type": "code",
      "metadata": {
        "id": "nvUFA7EeGOwp",
        "colab_type": "code",
        "colab": {
          "base_uri": "https://localhost:8080/",
          "height": 34
        },
        "outputId": "e2ffb3f3-a3fa-45d7-c607-8677956bb72a"
      },
      "source": [
        "8 & 5"
      ],
      "execution_count": 31,
      "outputs": [
        {
          "output_type": "execute_result",
          "data": {
            "text/plain": [
              "0"
            ]
          },
          "metadata": {
            "tags": []
          },
          "execution_count": 31
        }
      ]
    },
    {
      "cell_type": "code",
      "metadata": {
        "id": "md8-sYkrSitL",
        "colab_type": "code",
        "colab": {
          "base_uri": "https://localhost:8080/",
          "height": 34
        },
        "outputId": "d1460fae-b8cc-4f6e-a12d-4abdbe69150c"
      },
      "source": [
        "7 ^ 3"
      ],
      "execution_count": 32,
      "outputs": [
        {
          "output_type": "execute_result",
          "data": {
            "text/plain": [
              "4"
            ]
          },
          "metadata": {
            "tags": []
          },
          "execution_count": 32
        }
      ]
    },
    {
      "cell_type": "code",
      "metadata": {
        "id": "W-qTzNmiUIoH",
        "colab_type": "code",
        "colab": {
          "base_uri": "https://localhost:8080/",
          "height": 50
        },
        "outputId": "d12f13ba-8d41-402e-fc62-744b24b1e1ea"
      },
      "source": [
        "%who"
      ],
      "execution_count": 33,
      "outputs": [
        {
          "output_type": "stream",
          "text": [
            "data\t fereq_count\t fname\t fullname\t item\t lname\t marker\t name\t outdict\t \n",
            "practical\t theory\t \n"
          ],
          "name": "stdout"
        }
      ]
    },
    {
      "cell_type": "code",
      "metadata": {
        "id": "FH8RHZkkSffh",
        "colab_type": "code",
        "colab": {
          "base_uri": "https://localhost:8080/",
          "height": 34
        },
        "outputId": "f8279a94-6083-4dbd-f0bf-bc660589b0aa"
      },
      "source": [
        "(7 | 3) | (7 | 3)"
      ],
      "execution_count": 34,
      "outputs": [
        {
          "output_type": "execute_result",
          "data": {
            "text/plain": [
              "7"
            ]
          },
          "metadata": {
            "tags": []
          },
          "execution_count": 34
        }
      ]
    },
    {
      "cell_type": "markdown",
      "metadata": {
        "id": "AUlom-tx3KNR",
        "colab_type": "text"
      },
      "source": [
        "#List Context\n",
        "+ List (aka Array)\n",
        "+ Tuple\n",
        "+ Set"
      ]
    },
    {
      "cell_type": "code",
      "metadata": {
        "id": "x3vAGwOpUfWA",
        "colab_type": "code",
        "colab": {}
      },
      "source": [
        "data = [1,4,5,6,78]"
      ],
      "execution_count": 35,
      "outputs": []
    },
    {
      "cell_type": "code",
      "metadata": {
        "id": "BNQfCaAoUl2G",
        "colab_type": "code",
        "colab": {
          "base_uri": "https://localhost:8080/",
          "height": 34
        },
        "outputId": "462286fa-b08e-4c82-dbed-1fda6cca6e71"
      },
      "source": [
        "data[4] = 44\n",
        "data"
      ],
      "execution_count": 36,
      "outputs": [
        {
          "output_type": "execute_result",
          "data": {
            "text/plain": [
              "[1, 4, 5, 6, 44]"
            ]
          },
          "metadata": {
            "tags": []
          },
          "execution_count": 36
        }
      ]
    },
    {
      "cell_type": "code",
      "metadata": {
        "id": "8db9ydNQUz4O",
        "colab_type": "code",
        "colab": {
          "base_uri": "https://localhost:8080/",
          "height": 34
        },
        "outputId": "34755752-c5e4-4449-c6e5-af3f0e0d53e4"
      },
      "source": [
        "tdata = tuple(data)\n",
        "tdata"
      ],
      "execution_count": 37,
      "outputs": [
        {
          "output_type": "execute_result",
          "data": {
            "text/plain": [
              "(1, 4, 5, 6, 44)"
            ]
          },
          "metadata": {
            "tags": []
          },
          "execution_count": 37
        }
      ]
    },
    {
      "cell_type": "code",
      "metadata": {
        "id": "eldrD7P8U5cw",
        "colab_type": "code",
        "colab": {
          "base_uri": "https://localhost:8080/",
          "height": 34
        },
        "outputId": "ded0a011-1ffe-4e72-df7c-6e63c0017989"
      },
      "source": [
        "xyz=[1,1,3,4,5,66,66, 7,4,5,4]\n",
        "xyz"
      ],
      "execution_count": 38,
      "outputs": [
        {
          "output_type": "execute_result",
          "data": {
            "text/plain": [
              "[1, 1, 3, 4, 5, 66, 66, 7, 4, 5, 4]"
            ]
          },
          "metadata": {
            "tags": []
          },
          "execution_count": 38
        }
      ]
    },
    {
      "cell_type": "code",
      "metadata": {
        "id": "h4I__Md_VMw2",
        "colab_type": "code",
        "colab": {}
      },
      "source": [
        "sxyz = set(xyz)"
      ],
      "execution_count": 39,
      "outputs": []
    },
    {
      "cell_type": "code",
      "metadata": {
        "id": "4AAabROkVQR0",
        "colab_type": "code",
        "colab": {
          "base_uri": "https://localhost:8080/",
          "height": 34
        },
        "outputId": "8548cba4-1b5f-424e-ecca-1e5f5c88b14d"
      },
      "source": [
        "sxyz"
      ],
      "execution_count": 40,
      "outputs": [
        {
          "output_type": "execute_result",
          "data": {
            "text/plain": [
              "{1, 3, 4, 5, 7, 66}"
            ]
          },
          "metadata": {
            "tags": []
          },
          "execution_count": 40
        }
      ]
    },
    {
      "cell_type": "code",
      "metadata": {
        "id": "njuAq6Q1Vakg",
        "colab_type": "code",
        "colab": {
          "base_uri": "https://localhost:8080/",
          "height": 34
        },
        "outputId": "56791cff-1049-4e03-e218-92b9678e318d"
      },
      "source": [
        "sabc=set([1,444,55,66])\n",
        "sabc"
      ],
      "execution_count": 41,
      "outputs": [
        {
          "output_type": "execute_result",
          "data": {
            "text/plain": [
              "{1, 55, 66, 444}"
            ]
          },
          "metadata": {
            "tags": []
          },
          "execution_count": 41
        }
      ]
    },
    {
      "cell_type": "code",
      "metadata": {
        "id": "gDd-6OQPVoxk",
        "colab_type": "code",
        "colab": {
          "base_uri": "https://localhost:8080/",
          "height": 34
        },
        "outputId": "6873f5d5-bab5-4de6-8ee7-9f68d693bcba"
      },
      "source": [
        "sabc.union(sxyz)"
      ],
      "execution_count": 42,
      "outputs": [
        {
          "output_type": "execute_result",
          "data": {
            "text/plain": [
              "{1, 3, 4, 5, 7, 55, 66, 444}"
            ]
          },
          "metadata": {
            "tags": []
          },
          "execution_count": 42
        }
      ]
    },
    {
      "cell_type": "code",
      "metadata": {
        "id": "dABrAnAfV2N8",
        "colab_type": "code",
        "colab": {
          "base_uri": "https://localhost:8080/",
          "height": 34
        },
        "outputId": "cf2438ea-5c0f-4818-a1b5-cacc3ecf3163"
      },
      "source": [
        "data"
      ],
      "execution_count": 43,
      "outputs": [
        {
          "output_type": "execute_result",
          "data": {
            "text/plain": [
              "[1, 4, 5, 6, 44]"
            ]
          },
          "metadata": {
            "tags": []
          },
          "execution_count": 43
        }
      ]
    },
    {
      "cell_type": "markdown",
      "metadata": {
        "id": "VnMELRsLilXy",
        "colab_type": "text"
      },
      "source": [
        ""
      ]
    },
    {
      "cell_type": "code",
      "metadata": {
        "id": "fTu1hcK-WGVe",
        "colab_type": "code",
        "colab": {
          "base_uri": "https://localhost:8080/",
          "height": 101
        },
        "outputId": "eb44ee79-3d0d-4e61-df66-b840857348f1"
      },
      "source": [
        "for item in data:\n",
        "  print(f\"seen {item * item}\")"
      ],
      "execution_count": 44,
      "outputs": [
        {
          "output_type": "stream",
          "text": [
            "seen 1\n",
            "seen 16\n",
            "seen 25\n",
            "seen 36\n",
            "seen 1936\n"
          ],
          "name": "stdout"
        }
      ]
    },
    {
      "cell_type": "markdown",
      "metadata": {
        "id": "MlmZtXyabh5I",
        "colab_type": "text"
      },
      "source": [
        "**List Comprehension **"
      ]
    },
    {
      "cell_type": "code",
      "metadata": {
        "id": "eA23eTwiWS6u",
        "colab_type": "code",
        "colab": {}
      },
      "source": [
        "sq_data = [item * item for item in data ]"
      ],
      "execution_count": 45,
      "outputs": []
    },
    {
      "cell_type": "code",
      "metadata": {
        "id": "73wd3ZwqWw0C",
        "colab_type": "code",
        "colab": {
          "base_uri": "https://localhost:8080/",
          "height": 34
        },
        "outputId": "4fbba008-0b1f-4cce-83f3-fd0e34dcf256"
      },
      "source": [
        "sq_data"
      ],
      "execution_count": 46,
      "outputs": [
        {
          "output_type": "execute_result",
          "data": {
            "text/plain": [
              "[1, 16, 25, 36, 1936]"
            ]
          },
          "metadata": {
            "tags": []
          },
          "execution_count": 46
        }
      ]
    },
    {
      "cell_type": "code",
      "metadata": {
        "id": "Z4n8tHIUW8Sh",
        "colab_type": "code",
        "colab": {}
      },
      "source": [
        "data.append(sq_data)"
      ],
      "execution_count": 47,
      "outputs": []
    },
    {
      "cell_type": "code",
      "metadata": {
        "id": "TLkdNXSMXBnd",
        "colab_type": "code",
        "colab": {
          "base_uri": "https://localhost:8080/",
          "height": 34
        },
        "outputId": "0b84f6e3-e32a-4271-9101-a935edd58e90"
      },
      "source": [
        "data"
      ],
      "execution_count": 48,
      "outputs": [
        {
          "output_type": "execute_result",
          "data": {
            "text/plain": [
              "[1, 4, 5, 6, 44, [1, 16, 25, 36, 1936]]"
            ]
          },
          "metadata": {
            "tags": []
          },
          "execution_count": 48
        }
      ]
    },
    {
      "cell_type": "code",
      "metadata": {
        "id": "uW1rSduWXQDg",
        "colab_type": "code",
        "colab": {
          "base_uri": "https://localhost:8080/",
          "height": 34
        },
        "outputId": "823f913c-86f4-4b6e-e3c1-ed35baae8b2f"
      },
      "source": [
        "data=list(range(4,6))\n",
        "data"
      ],
      "execution_count": 49,
      "outputs": [
        {
          "output_type": "execute_result",
          "data": {
            "text/plain": [
              "[4, 5]"
            ]
          },
          "metadata": {
            "tags": []
          },
          "execution_count": 49
        }
      ]
    },
    {
      "cell_type": "code",
      "metadata": {
        "id": "E2bHmMpNYCTe",
        "colab_type": "code",
        "colab": {}
      },
      "source": [
        ""
      ],
      "execution_count": 49,
      "outputs": []
    },
    {
      "cell_type": "code",
      "metadata": {
        "id": "Sil1FhaDX4GG",
        "colab_type": "code",
        "colab": {
          "base_uri": "https://localhost:8080/",
          "height": 34
        },
        "outputId": "0659d70b-3b2b-424b-fae7-a8ccd75d0893"
      },
      "source": [
        "data2=list(range(78,86))\n",
        "data2"
      ],
      "execution_count": 50,
      "outputs": [
        {
          "output_type": "execute_result",
          "data": {
            "text/plain": [
              "[78, 79, 80, 81, 82, 83, 84, 85]"
            ]
          },
          "metadata": {
            "tags": []
          },
          "execution_count": 50
        }
      ]
    },
    {
      "cell_type": "code",
      "metadata": {
        "id": "NgL2NdjsX8nE",
        "colab_type": "code",
        "colab": {
          "base_uri": "https://localhost:8080/",
          "height": 34
        },
        "outputId": "25c0d897-1c44-4a66-f377-ad0608bf698b"
      },
      "source": [
        "data.extend(data2)\n",
        "data\n",
        "len(data)"
      ],
      "execution_count": 51,
      "outputs": [
        {
          "output_type": "execute_result",
          "data": {
            "text/plain": [
              "10"
            ]
          },
          "metadata": {
            "tags": []
          },
          "execution_count": 51
        }
      ]
    },
    {
      "cell_type": "code",
      "metadata": {
        "id": "SyC1MbULYUtj",
        "colab_type": "code",
        "colab": {
          "base_uri": "https://localhost:8080/",
          "height": 34
        },
        "outputId": "74b3e481-ac26-476d-ade9-46c5dc8cf30d"
      },
      "source": [
        "sorted(data)"
      ],
      "execution_count": 52,
      "outputs": [
        {
          "output_type": "execute_result",
          "data": {
            "text/plain": [
              "[4, 5, 78, 79, 80, 81, 82, 83, 84, 85]"
            ]
          },
          "metadata": {
            "tags": []
          },
          "execution_count": 52
        }
      ]
    },
    {
      "cell_type": "code",
      "metadata": {
        "id": "s-_5fxnXZRCV",
        "colab_type": "code",
        "colab": {}
      },
      "source": [
        ""
      ],
      "execution_count": 52,
      "outputs": []
    },
    {
      "cell_type": "markdown",
      "metadata": {
        "id": "c7ShWUi9ZSIG",
        "colab_type": "text"
      },
      "source": [
        ""
      ]
    },
    {
      "cell_type": "markdown",
      "metadata": {
        "id": "f1efgprOZToK",
        "colab_type": "text"
      },
      "source": [
        "# Dictionary / HAsh"
      ]
    },
    {
      "cell_type": "code",
      "metadata": {
        "id": "Kj6-RytfiviQ",
        "colab_type": "code",
        "colab": {}
      },
      "source": [
        "xyz = {} "
      ],
      "execution_count": 53,
      "outputs": []
    },
    {
      "cell_type": "code",
      "metadata": {
        "id": "Z6NMT_Jdi0oG",
        "colab_type": "code",
        "colab": {}
      },
      "source": [
        "xyz['KA'] = 'Karnataka / Yeddi'"
      ],
      "execution_count": 54,
      "outputs": []
    },
    {
      "cell_type": "code",
      "metadata": {
        "id": "QFiPbUL_jgwJ",
        "colab_type": "code",
        "colab": {}
      },
      "source": [
        "xyz['MH'] = 'Maharashtra @@@ Uddhav'\n",
        "xyz['TS'] = 'Telangana  $$$ TSR Rao'"
      ],
      "execution_count": 55,
      "outputs": []
    },
    {
      "cell_type": "code",
      "metadata": {
        "id": "NzpZRWEdkP0R",
        "colab_type": "code",
        "colab": {
          "base_uri": "https://localhost:8080/",
          "height": 67
        },
        "outputId": "1455f25b-cf5c-4b05-b87c-78f50238a90f"
      },
      "source": [
        "xyz\n"
      ],
      "execution_count": 56,
      "outputs": [
        {
          "output_type": "execute_result",
          "data": {
            "text/plain": [
              "{'KA': 'Karnataka / Yeddi',\n",
              " 'MH': 'Maharashtra @@@ Uddhav',\n",
              " 'TS': 'Telangana  $$$ TSR Rao'}"
            ]
          },
          "metadata": {
            "tags": []
          },
          "execution_count": 56
        }
      ]
    },
    {
      "cell_type": "code",
      "metadata": {
        "id": "EISp9c25k158",
        "colab_type": "code",
        "colab": {
          "base_uri": "https://localhost:8080/",
          "height": 67
        },
        "outputId": "d4ffd561-418f-4995-8f3f-2468ecb7d4d6"
      },
      "source": [
        "for item in xyz.keys() :\n",
        "  print(f\"Value is {xyz[item]}\")"
      ],
      "execution_count": 57,
      "outputs": [
        {
          "output_type": "stream",
          "text": [
            "Value is Karnataka / Yeddi\n",
            "Value is Maharashtra @@@ Uddhav\n",
            "Value is Telangana  $$$ TSR Rao\n"
          ],
          "name": "stdout"
        }
      ]
    },
    {
      "cell_type": "code",
      "metadata": {
        "id": "EdGgm3KPlh2H",
        "colab_type": "code",
        "colab": {
          "base_uri": "https://localhost:8080/",
          "height": 34
        },
        "outputId": "e1a89f74-6000-4921-b758-4d7da86b5c72"
      },
      "source": [
        "xyz.items()"
      ],
      "execution_count": 58,
      "outputs": [
        {
          "output_type": "execute_result",
          "data": {
            "text/plain": [
              "dict_items([('KA', 'Karnataka / Yeddi'), ('MH', 'Maharashtra @@@ Uddhav'), ('TS', 'Telangana  $$$ TSR Rao')])"
            ]
          },
          "metadata": {
            "tags": []
          },
          "execution_count": 58
        }
      ]
    },
    {
      "cell_type": "code",
      "metadata": {
        "id": "6yzFV8WTlpQd",
        "colab_type": "code",
        "colab": {
          "base_uri": "https://localhost:8080/",
          "height": 67
        },
        "outputId": "764fc345-e60f-4c6f-ef66-9eec0fd85c09"
      },
      "source": [
        "for ii in xyz.items() :\n",
        "  print(ii)"
      ],
      "execution_count": 59,
      "outputs": [
        {
          "output_type": "stream",
          "text": [
            "('KA', 'Karnataka / Yeddi')\n",
            "('MH', 'Maharashtra @@@ Uddhav')\n",
            "('TS', 'Telangana  $$$ TSR Rao')\n"
          ],
          "name": "stdout"
        }
      ]
    },
    {
      "cell_type": "code",
      "metadata": {
        "id": "DMVJDavsmkOv",
        "colab_type": "code",
        "colab": {
          "base_uri": "https://localhost:8080/",
          "height": 202
        },
        "outputId": "6e282547-a70c-4ae7-faa8-a09a58e8487a"
      },
      "source": [
        "data = [1,1,1,3,3,67,34,3,2,1]\n",
        "data\n",
        "outdict = {}\n",
        "for item in data :\n",
        "  try :\n",
        "    outdict[item] += 1\n",
        "    print(f\"Repeat Entry:: {outdict}\")\n",
        "  except:   \n",
        "    outdict[item] = 1\n",
        "    print(f\"New Entry:: {outdict}\")\n",
        "\n",
        "outdict\n"
      ],
      "execution_count": 60,
      "outputs": [
        {
          "output_type": "stream",
          "text": [
            "New Entry:: {1: 1}\n",
            "Repeat Entry:: {1: 2}\n",
            "Repeat Entry:: {1: 3}\n",
            "New Entry:: {1: 3, 3: 1}\n",
            "Repeat Entry:: {1: 3, 3: 2}\n",
            "New Entry:: {1: 3, 3: 2, 67: 1}\n",
            "New Entry:: {1: 3, 3: 2, 67: 1, 34: 1}\n",
            "Repeat Entry:: {1: 3, 3: 3, 67: 1, 34: 1}\n",
            "New Entry:: {1: 3, 3: 3, 67: 1, 34: 1, 2: 1}\n",
            "Repeat Entry:: {1: 4, 3: 3, 67: 1, 34: 1, 2: 1}\n"
          ],
          "name": "stdout"
        },
        {
          "output_type": "execute_result",
          "data": {
            "text/plain": [
              "{1: 4, 2: 1, 3: 3, 34: 1, 67: 1}"
            ]
          },
          "metadata": {
            "tags": []
          },
          "execution_count": 60
        }
      ]
    },
    {
      "cell_type": "code",
      "metadata": {
        "id": "GabBtDMKprLV",
        "colab_type": "code",
        "colab": {
          "base_uri": "https://localhost:8080/",
          "height": 34
        },
        "outputId": "149e257b-111c-4351-d49e-0b6ff802d104"
      },
      "source": [
        "outdict.clear()\n",
        "outdict"
      ],
      "execution_count": 61,
      "outputs": [
        {
          "output_type": "execute_result",
          "data": {
            "text/plain": [
              "{}"
            ]
          },
          "metadata": {
            "tags": []
          },
          "execution_count": 61
        }
      ]
    },
    {
      "cell_type": "markdown",
      "metadata": {
        "id": "gsFfd7MKZcTB",
        "colab_type": "text"
      },
      "source": [
        "# Functions"
      ]
    },
    {
      "cell_type": "code",
      "metadata": {
        "id": "eZPA8LLCe6rE",
        "colab_type": "code",
        "colab": {}
      },
      "source": [
        "def fereq_count(input):\n",
        "  f_out = {}\n",
        "  for item in input :\n",
        "    try :\n",
        "      f_out[item] += 1\n",
        "    except :\n",
        "      f_out[item] = 1\n",
        "  return f_out\n",
        "\n"
      ],
      "execution_count": 62,
      "outputs": []
    },
    {
      "cell_type": "code",
      "metadata": {
        "id": "YzWf8NuqfhTe",
        "colab_type": "code",
        "colab": {
          "base_uri": "https://localhost:8080/",
          "height": 34
        },
        "outputId": "2d7d9b7d-75f7-489a-c76d-6e2c625ebdf9"
      },
      "source": [
        "print(fereq_count([1,1,1,3,4,4,4,4,4,4,4]))"
      ],
      "execution_count": 63,
      "outputs": [
        {
          "output_type": "stream",
          "text": [
            "{1: 3, 3: 1, 4: 7}\n"
          ],
          "name": "stdout"
        }
      ]
    },
    {
      "cell_type": "code",
      "metadata": {
        "id": "Cuc6wnlDfnT1",
        "colab_type": "code",
        "colab": {
          "base_uri": "https://localhost:8080/",
          "height": 34
        },
        "outputId": "c91c9988-6362-474d-aeb6-52634e37877e"
      },
      "source": [
        "print(fereq_count([1,1,1,3]))"
      ],
      "execution_count": 64,
      "outputs": [
        {
          "output_type": "stream",
          "text": [
            "{1: 3, 3: 1}\n"
          ],
          "name": "stdout"
        }
      ]
    },
    {
      "cell_type": "code",
      "metadata": {
        "id": "4SBLNe6ogDGv",
        "colab_type": "code",
        "colab": {
          "base_uri": "https://localhost:8080/",
          "height": 34
        },
        "outputId": "916ac47b-04cc-4d83-a1ff-4b7f6cd4932e"
      },
      "source": [
        "fereq_count"
      ],
      "execution_count": 66,
      "outputs": [
        {
          "output_type": "execute_result",
          "data": {
            "text/plain": [
              "<function __main__.fereq_count>"
            ]
          },
          "metadata": {
            "tags": []
          },
          "execution_count": 66
        }
      ]
    },
    {
      "cell_type": "code",
      "metadata": {
        "id": "o7oQpEqBgUds",
        "colab_type": "code",
        "colab": {
          "base_uri": "https://localhost:8080/",
          "height": 35
        },
        "outputId": "a0b02548-928b-4555-8fdb-72952cf9f035"
      },
      "source": [
        "name"
      ],
      "execution_count": 68,
      "outputs": [
        {
          "output_type": "execute_result",
          "data": {
            "application/vnd.google.colaboratory.intrinsic": {
              "type": "string"
            },
            "text/plain": [
              "'RauhlFandhi'"
            ]
          },
          "metadata": {
            "tags": []
          },
          "execution_count": 68
        }
      ]
    },
    {
      "cell_type": "code",
      "metadata": {
        "id": "jJFyL87RgXd3",
        "colab_type": "code",
        "colab": {}
      },
      "source": [
        "fq=fereq_count"
      ],
      "execution_count": 69,
      "outputs": []
    },
    {
      "cell_type": "code",
      "metadata": {
        "id": "matGB3OSgp3_",
        "colab_type": "code",
        "colab": {
          "base_uri": "https://localhost:8080/",
          "height": 34
        },
        "outputId": "ba4f14c9-68bc-4cac-cdb8-53339fc7bb43"
      },
      "source": [
        "fq([1,1,1,11,1,111,1,1,11,11,])"
      ],
      "execution_count": 70,
      "outputs": [
        {
          "output_type": "execute_result",
          "data": {
            "text/plain": [
              "{1: 6, 11: 3, 111: 1}"
            ]
          },
          "metadata": {
            "tags": []
          },
          "execution_count": 70
        }
      ]
    },
    {
      "cell_type": "code",
      "metadata": {
        "id": "qFgfImiGguQX",
        "colab_type": "code",
        "colab": {
          "base_uri": "https://localhost:8080/",
          "height": 34
        },
        "outputId": "ae195933-aa8e-4b07-ff73-c3ec372c90e4"
      },
      "source": [
        "fereq_count([1,1,1,11,1,111,1,1,11,11,])"
      ],
      "execution_count": 85,
      "outputs": [
        {
          "output_type": "execute_result",
          "data": {
            "text/plain": [
              "{1: 6, 11: 3, 111: 1}"
            ]
          },
          "metadata": {
            "tags": []
          },
          "execution_count": 85
        }
      ]
    },
    {
      "cell_type": "code",
      "metadata": {
        "id": "UvuKuPmQio4n",
        "colab_type": "code",
        "colab": {}
      },
      "source": [
        "fereq_count=None"
      ],
      "execution_count": 92,
      "outputs": []
    },
    {
      "cell_type": "code",
      "metadata": {
        "id": "EztM8f4CkKz1",
        "colab_type": "code",
        "colab": {}
      },
      "source": [
        "def DecimalToBinary(num): \n",
        "    print(f\"In Function NUM is {num}\")\n",
        "    if num > 1: \n",
        "        DecimalToBinary(num // 2) \n",
        "    print(num % 2, end = '') \n"
      ],
      "execution_count": 150,
      "outputs": []
    },
    {
      "cell_type": "code",
      "metadata": {
        "id": "h6Cb9OH_o3uZ",
        "colab_type": "code",
        "colab": {
          "base_uri": "https://localhost:8080/",
          "height": 151
        },
        "outputId": "22eb63e7-349a-42ff-8d01-234a3f4203ba"
      },
      "source": [
        "DecimalToBinary(127)"
      ],
      "execution_count": 169,
      "outputs": [
        {
          "output_type": "stream",
          "text": [
            "In Function NUM is 127\n",
            "In Function NUM is 63\n",
            "In Function NUM is 31\n",
            "In Function NUM is 15\n",
            "In Function NUM is 7\n",
            "In Function NUM is 3\n",
            "In Function NUM is 1\n",
            "1111111"
          ],
          "name": "stdout"
        }
      ]
    },
    {
      "cell_type": "code",
      "metadata": {
        "id": "7CwMiPgIlq27",
        "colab_type": "code",
        "colab": {
          "base_uri": "https://localhost:8080/",
          "height": 34
        },
        "outputId": "287c19ae-ac63-4a7a-bcec-f10a73775058"
      },
      "source": [
        "aar = list(range(10,17))\n",
        "aar"
      ],
      "execution_count": 161,
      "outputs": [
        {
          "output_type": "execute_result",
          "data": {
            "text/plain": [
              "[10, 11, 12, 13, 14, 15, 16]"
            ]
          },
          "metadata": {
            "tags": []
          },
          "execution_count": 161
        }
      ]
    },
    {
      "cell_type": "code",
      "metadata": {
        "id": "fkV47pTvrfjX",
        "colab_type": "code",
        "colab": {}
      },
      "source": [
        "def genSq(my_arr):\n",
        "  for item in my_arr:\n",
        "    yield item * item\n"
      ],
      "execution_count": 166,
      "outputs": []
    },
    {
      "cell_type": "code",
      "metadata": {
        "id": "1W5pPNwZr1Sq",
        "colab_type": "code",
        "colab": {}
      },
      "source": [
        "test1 = genSq([1,3,5,6,7])\n",
        "\n"
      ],
      "execution_count": 197,
      "outputs": []
    },
    {
      "cell_type": "code",
      "metadata": {
        "id": "pG_0QmNqsHMk",
        "colab_type": "code",
        "colab": {}
      },
      "source": [
        "for item in test1 :\n",
        "  print(item)\n",
        " "
      ],
      "execution_count": 199,
      "outputs": []
    },
    {
      "cell_type": "markdown",
      "metadata": {
        "id": "L4lWEkayaDOj",
        "colab_type": "text"
      },
      "source": [
        "# Debugging"
      ]
    },
    {
      "cell_type": "markdown",
      "metadata": {
        "id": "xCURtGU4Z9Jk",
        "colab_type": "text"
      },
      "source": [
        "# Class and OOP"
      ]
    }
  ]
}